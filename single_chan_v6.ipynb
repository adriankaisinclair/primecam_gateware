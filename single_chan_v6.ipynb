{
 "cells": [
  {
   "cell_type": "code",
   "execution_count": 1,
   "metadata": {},
   "outputs": [
    {
     "data": {
      "application/javascript": [
       "\n",
       "try {\n",
       "require(['notebook/js/codecell'], function(codecell) {\n",
       "  codecell.CodeCell.options_default.highlight_modes[\n",
       "      'magic_text/x-csrc'] = {'reg':[/^%%microblaze/]};\n",
       "  Jupyter.notebook.events.one('kernel_ready.Kernel', function(){\n",
       "      Jupyter.notebook.get_cells().map(function(cell){\n",
       "          if (cell.cell_type == 'code'){ cell.auto_highlight(); } }) ;\n",
       "  });\n",
       "});\n",
       "} catch (e) {};\n"
      ]
     },
     "metadata": {},
     "output_type": "display_data"
    },
    {
     "data": {
      "application/javascript": [
       "\n",
       "try {\n",
       "require(['notebook/js/codecell'], function(codecell) {\n",
       "  codecell.CodeCell.options_default.highlight_modes[\n",
       "      'magic_text/x-csrc'] = {'reg':[/^%%pybind11/]};\n",
       "  Jupyter.notebook.events.one('kernel_ready.Kernel', function(){\n",
       "      Jupyter.notebook.get_cells().map(function(cell){\n",
       "          if (cell.cell_type == 'code'){ cell.auto_highlight(); } }) ;\n",
       "  });\n",
       "});\n",
       "} catch (e) {};\n"
      ]
     },
     "metadata": {},
     "output_type": "display_data"
    }
   ],
   "source": [
    "import os\n",
    "from pynq import Overlay\n",
    "from pynq import MMIO\n",
    "import xrfclk\n",
    "import xrfdc\n",
    "import struct\n",
    "from time import sleep\n",
    "from matplotlib import pyplot as plt\n",
    "import numpy as np\n",
    "from scipy import signal"
   ]
  },
  {
   "cell_type": "code",
   "execution_count": 2,
   "metadata": {},
   "outputs": [],
   "source": [
    "# FIRMWARE UPLOAD\n",
    "firmware = Overlay(\"single_chan_v6.bit\",ignore_version=True)\n",
    "\n",
    "# INITIALIZING LMK04208 CLOCK\n",
    "clksrc = 409.6 # MHz\n",
    "xrfclk.set_all_ref_clks(clksrc)"
   ]
  },
  {
   "cell_type": "code",
   "execution_count": 3,
   "metadata": {},
   "outputs": [],
   "source": [
    "lofreq = 1000.000 # [MHz]\n",
    "rf_data_conv = firmware.usp_rf_data_converter_0\n",
    "rf_data_conv.adc_tiles[0].blocks[0].MixerSettings['Freq']=lofreq\n",
    "rf_data_conv.dac_tiles[1].blocks[3].MixerSettings['Freq']=lofreq\n",
    "rf_data_conv.adc_tiles[0].blocks[0].UpdateEvent(xrfdc.EVENT_MIXER)\n",
    "rf_data_conv.dac_tiles[1].blocks[3].UpdateEvent(xrfdc.EVENT_MIXER)"
   ]
  },
  {
   "cell_type": "code",
   "execution_count": null,
   "metadata": {},
   "outputs": [],
   "source": []
  },
  {
   "cell_type": "code",
   "execution_count": 4,
   "metadata": {},
   "outputs": [],
   "source": [
    "########################3\n",
    "# Configure udp ip and mac\n",
    "##########################\n",
    "dst_mac_reg = firmware.eth_wrap.IP_MAC_gpio_hier.dst_mac # 48 bits, offset 0x00 bottom 32bits, 0x08 top 16 bits\n",
    "src_mac_reg = firmware.eth_wrap.IP_MAC_gpio_hier.src_mac # 48 bits, offset 0x00 bottom 32bits, 0x08 top 16 bits\n",
    "ip_reg = firmware.eth_wrap.IP_MAC_gpio_hier.ip # offset 0x00 src ip, offset 0x08 dst ip\n",
    "eth_delay_reg = firmware.eth_wrap.eth_delay # programmable delay for eth byte shift\n",
    "data_in_mux = firmware.eth_wrap.data_in_mux\n",
    "# setting ips\n",
    "src_ip_int32 = int(\"c0a80329\",16)\n",
    "dst_ip_int32 = int(\"c0a80328\",16)\n",
    "src_mac0_int32 = int(\"deadbeef\",16)\n",
    "src_mac1_int16 = int(\"feed\",16)\n",
    "dst_mac0_int32 = int(\"5d092bb0\",16) #  startech dongle 80:3f:5d:09:6b:1d\n",
    "dst_mac1_int16 = int(\"803f\",16)\n",
    "\n",
    "# write values\n",
    "ip_reg.write( 0x00, src_ip_int32) \n",
    "ip_reg.write( 0x08, dst_ip_int32)\n",
    "dst_mac_reg.write( 0x00, dst_mac0_int32)\n",
    "dst_mac_reg.write( 0x08, dst_mac1_int16)\n",
    "src_mac_reg.write( 0x00, src_mac0_int32)\n",
    "src_mac_reg.write( 0x08, src_mac1_int16)"
   ]
  },
  {
   "cell_type": "code",
   "execution_count": 5,
   "metadata": {},
   "outputs": [],
   "source": [
    "###############################\n",
    "# Ethernet Delay Lines  \n",
    "###############################\n",
    "eth_delay_reg.write(0x00, 20 + (4<<16))#44 + (4<<16)) # data output from eth buffer delay/ input to eth buffer delay <<16 delay\n",
    "eth_delay_reg.write(0x08, 3) # start pulse out delay\n",
    "###############################\n",
    "# Data MUX\n",
    "###############################\n",
    "data_in_mux.write( 0x00, 1) # coffee when 0, data when 1\n",
    "data_in_mux.write( 0x08, (509) + ((8189)<<16) ) # ethernet max write count and max read count\n",
    "###############################\n",
    "# DDC shift\n",
    "###############################\n",
    "\n",
    "#dds_shift.write(0x00dds_shift.write(0x00,12) # 100 : for each addr in ddc bin list, 25 for bin list offs 50"
   ]
  },
  {
   "cell_type": "markdown",
   "metadata": {},
   "source": [
    "# Generating DDS/DAC Waveform"
   ]
  },
  {
   "cell_type": "code",
   "execution_count": 6,
   "metadata": {},
   "outputs": [],
   "source": [
    "def phase_shift(ts, phase):\n",
    "    y = ts*np.exp(1j*phase)\n",
    "    return ts.real + 1j*y.imag\n",
    "\n",
    "def norm_wave(ts, max_amp=2**15-1):\n",
    "    \"\"\"\n",
    "     Re-configure generated data values to fit LUT\n",
    "    \"\"\"\n",
    "    Imax = max(abs(ts.real))\n",
    "    Qmax = max(abs(ts.imag))\n",
    "    norm = max(abs(ts))\n",
    "    dacI = ((ts.real/norm)*max_amp).astype(\"int16\")\n",
    "    dacQ = ((ts.imag/norm)*max_amp).astype(\"int16\")\n",
    "    return dacI, dacQ\n",
    "\n",
    "def surfsUpDude(freq_list, vna = False, verbose=False):\n",
    "    \"\"\"\n",
    "    surfsUpDude Takes a list of specified frequencies and generates....stuff and things, then \n",
    "    uploads to the bram. Then we'll have totally ripped waves bruh, schralping the gnar.\n",
    "    \n",
    "    params\n",
    "        freq_list: np.array\n",
    "            list of tones to generate [Hz]\n",
    "        verbose: bool\n",
    "            enable / disable printing (and or) plotting of data\n",
    "    \"\"\"\n",
    "    #####################################################\n",
    "    # HARDCODED LUT PARAMS\n",
    "    #####################################################\n",
    "    addr_size=18   # address bit width\n",
    "    channels= 2    # data points per memory address for DAC\n",
    "    fs = 1024e6    # sampling rate of D/A, FPGA fabric = fs/2\n",
    "    C=2            # decimation factor\n",
    "    data_p = channels*2**(addr_size) # length of timestream or length of LUT+1\n",
    "    \n",
    "    #####################################################\n",
    "    #  SET FREQ for LUT\n",
    "    #####################################################\n",
    "    if vna:\n",
    "      N = 1000 # number of tones to make\n",
    "      #freqs = -1*C*np.linspace(-250.0e6, 250.0e6,N) # equally spaced tones\n",
    "      freqs_up = 1*C*np.linspace(-251e6,-1e6, N//2)\n",
    "      freqs_lw = 1*C*np.linspace(2.15e6,252.15e6,N//2)\n",
    "      freqs = np.append(freqs_up,freqs_lw)\n",
    "      #freqs = freqs_up\n",
    "    else:\n",
    "      freqs = C*freq_list # equally spaced tones\n",
    "    phases = np.random.uniform(-np.pi,np.pi,len(freqs))\n",
    "    #phases[0] = 2*2np.arctan2(6e14,2e10)\n",
    "\n",
    "    ######################################################\n",
    "    # DAC Params\n",
    "    ######################################################\n",
    "    A = 2**15-1 # 16 bit D/A, expecting signed values.\n",
    "    freq_res = fs/data_p # Hz\n",
    "    fftbin_bw = 500e3 # Hz for effective bandwidth of 512MHz/1024 point fft on adc\n",
    "    print(freq_res)\n",
    "    \n",
    "    ######################################################\n",
    "    # GENERATE LUT WAVEFORM FROM FREQ LIST\n",
    "    ######################################################\n",
    "    freqs = np.round(freqs/(freq_res))*freq_res\n",
    "    print(\"{} Frequencies Generated:\".format(len(freqs)))\n",
    "    print(freqs/C*1e-6)\n",
    "    delta = np.zeros(data_p,dtype=\"complex\") # empty array of deltas\n",
    "    fft_bin_nums=np.zeros(len(freqs),dtype=int) # array of all dac bin index\n",
    "    for i in range(len(freqs)):\n",
    "        bin_num = np.round((freqs[i]/freq_res)).astype('int')\n",
    "        fft_bin_nums[i]=(np.round((freqs[i]/fftbin_bw/C)).astype('int'))*C\n",
    "        #print(\"lutwaveformflist{}\".format((np.round((freqs[i]/fftbin_bw/C)).astype('int'))*C))\n",
    "        #print(fft_bin_nums[i])\n",
    "        delta[bin_num] = np.exp(1j*phases[i]) \n",
    "    ts = np.fft.ifft(delta)\n",
    "\n",
    "    # GENERATE DDC WAVEFORM FROM BEAT FREQS\n",
    "    f_fft_bin = fft_bin_nums*fftbin_bw\n",
    "    f_beat = (freqs/C - f_fft_bin/C)\n",
    "    \n",
    "    if verbose:\n",
    "        print(\"\\nBeat Frequencies:\")\n",
    "        print(f_beat)\n",
    "        print(freqs/C)\n",
    "\n",
    "    ###########\n",
    "    # new DDC\n",
    "    ###########\n",
    "    wave_ddc = np.zeros( int(data_p), dtype=\"complex\") # empty array of deltas\n",
    "    delta_ddc = np.zeros( shape=(len(freqs),2**9), dtype=\"complex\") # empty array of deltas\n",
    "    beat_ddc = np.zeros(shape=(len(freqs),2**9), dtype=\"complex\")\n",
    "    bin_num_ddc = np.round(f_beat*2/freq_res) # factor of 2 for half a bin width\n",
    "    \n",
    "    print(\"bin num ddc \"+str(bin_num_ddc))\n",
    "\n",
    "    for i in range(len(freqs)): \n",
    "        delta_ddc[i,int(bin_num_ddc[i])] = np.exp(-1j*phases[i])\n",
    "        beat_ddc[i] = np.conj(np.fft.ifft(delta_ddc[i]))\n",
    "        \n",
    "    for i in range(1024):\n",
    "        if (i<len(freqs)):\n",
    "            wave_ddc[i::1024] = beat_ddc[i]\n",
    "        else:\n",
    "            wave_ddc[i::1024] = 0\n",
    "    \n",
    "    dacI, dacQ = norm_wave(ts)\n",
    "    ddcI, ddcQ = norm_wave(wave_ddc, max_amp=(2**13)-1)\n",
    "    return dacI, dacQ, ddcI, ddcQ, freqs\n",
    "\n",
    "def load_DAC(wave_real, wave_imag):\n",
    "    base_addr_DAC_I = 0x0400000000\n",
    "    base_addr_DAC_Q = 0x0400100000\n",
    "    mem_size = 262144*4 # 32 bit address slots\n",
    "    mmio_bramI = MMIO(base_addr_DAC_I,mem_size)\n",
    "    mmio_bramQ = MMIO(base_addr_DAC_Q,mem_size)\n",
    "    I0, I1 = wave_real[0::2], wave_real[1::2]\n",
    "    Q0, Q1 = wave_imag[0::2], wave_imag[1::2]\n",
    "    dataI = ((np.int32(Q1) << 16) + I1).astype(\"int32\")\n",
    "    dataQ = ((np.int32(Q0) << 16) + I0).astype(\"int32\")\n",
    "    mmio_bramI.array[0:262144] = dataI[0:262144]\n",
    "    mmio_bramQ.array[0:262144] = dataQ[0:262144]\n",
    "    print(\"DAC waveform uploaded to AXI BRAM\")\n",
    "    return\n",
    "\n",
    "def load_DDS(wave_real, wave_imag):\n",
    "    \n",
    "    base_addr_DDS_I = 0x0080000000\n",
    "    base_addr_DDS_Q = 0x0080100000\n",
    "    mem_size = 262144*4 # 32 bit address slots\n",
    "    mmio_bramI = MMIO(base_addr_DDS_I,mem_size)\n",
    "    mmio_bramQ = MMIO(base_addr_DDS_Q,mem_size)\n",
    "    I0, I1 = wave_real[0::2], wave_real[1::2]\n",
    "    Q0, Q1 = wave_imag[0::2], wave_imag[1::2]\n",
    "    dataI = ((np.int32(I1) << 16) + I0).astype(\"int32\")\n",
    "    dataQ = ((np.int32(Q1) << 16) + Q0).astype(\"int32\")\n",
    "    mmio_bramI.array[0:262144] = dataI[0:262144]\n",
    "    mmio_bramQ.array[0:262144] = dataQ[0:262144]\n",
    "    print(\"DDC waveform uploaded to AXI BRAM\")\n",
    "    return\n",
    "\n",
    "def load_bin_list(freqs):\n",
    "    bin_list = np.int64( np.round(freqs/1e6) )\n",
    "    print(\"bin_list:\"+str(bin_list))\n",
    "    # DSP REGS\n",
    "    dsp_regs = firmware.dsp_regs_0\n",
    "    # 0x00 -  fft_shift[9 downto 0], load_bins[22 downto 12], lut_counter_rst[11 downto 11] \n",
    "    # 0x04 -  bin_num[9 downto 0]\n",
    "    # 0x08 -  accum_len[23 downto 0], accum_rst[24 downto 24], sync_in[26 downto 26] (start dac)\n",
    "    # 0x0c -  dds_shift[8 downto 0]\n",
    "    \n",
    "    #fft_shift_and_load_bins = firmware.gpio1.axi_gpio_0 # 0x00 fft shift, 0x08 load bins\n",
    "    #accum_and_bin_idx = firmware.gpio2.axi_gpio_0 # 0x00 bins, 0x08 0-23 accum len, 24 accum rst, 25 sync in\n",
    "    \n",
    "    # mapping old to new gpios\n",
    "    # bins -> bin_num\n",
    "    \n",
    "    # initialization \n",
    "    sync_in = 2**26\n",
    "    accum_rst = 2**24  # (active low)\n",
    "    accum_length = (2**19)-1\n",
    "    ################################################\n",
    "    # Load DDC bins\n",
    "    ################################################\n",
    "    offs=0\n",
    "    \n",
    "    # only write tones to bin list\n",
    "    for addr in range(1024):\n",
    "        if addr<(len(bin_list)):\n",
    "            print(\"addr = {}, bin# = {}\".format(addr, bin_list[addr]))\n",
    "            #accum_and_bin_idx.write(0x00, int(bin_list[addr])) #110 # write bin for address single address\n",
    "            dsp_regs.write(0x04,int(bin_list[addr]))\n",
    "            #fft_shift_and_load_bins.write(0x08,(addr<<1)+1) # enable we\n",
    "            dsp_regs.write(0x00, ((addr<<1)+1)<<12)\n",
    "            #fft_shift_and_load_bins.write(0x08,0) # disable we\n",
    "            dsp_regs.write(0x00, 0)\n",
    "        else:\n",
    "            #accum_and_bin_idx.write(0x00,0)#0) #110 # write bin for address single address\n",
    "            dsp_regs.write(0x04,0)\n",
    "            #fft_shift_and_load_bins.write(0x08,(addr<<1)+1) # enable we\n",
    "            dsp_regs.write(0x00, ((addr<<1)+1)<<12)\n",
    "            #fft_shift_and_load_bins.write(0x08,0) # disable we\n",
    "            dsp_regs.write(0x00, 0)\n",
    "    return\n",
    "\n",
    "def load_waveform_into_mem(freqs, dac_r,dac_i,dds_r,dds_i):\n",
    "    #######################################################\n",
    "    # Load configured LUT values into FPGA memory\n",
    "    #######################################################\n",
    "    \n",
    "    # Arming DDC Waveform\n",
    "    ########################\n",
    "    dsp_regs = firmware.dsp_regs_0\n",
    "    # 0x00 -  fft_shift[9 downto 0], load_bins[22 downto 12], lut_counter_rst[11 downto 11] \n",
    "    # 0x04 -  bin_num[9 downto 0]\n",
    "    # 0x08 -  accum_len[23 downto 0], accum_rst[24 downto 24], sync_in[26 downto 26] (start dac)\n",
    "    # 0x0c -  dds_shift[8 downto 0]\n",
    "    # initialization  \n",
    "    sync_in = 2**26\n",
    "    accum_rst = 2**24  # (active rising edge)\n",
    "    accum_length = (2**19)-1 # (2**18)-1\n",
    "    \n",
    "    fft_shift=0\n",
    "    if len(freqs)<400:\n",
    "        fft_shift = 2**9-1\n",
    "    else:\n",
    "        fft_shift = 2**2-1\n",
    "    \n",
    "    #fft_shift_and_load_bins = firmware.gpio1.axi_gpio_0\n",
    "    #dds_shift=firmware.gpio3.axi_gpio_0 # DDS SHIFT offset = 0x00, 0x08 is open\n",
    "    #dds_shift.write(0x00,262)#234) # WRITING TO DDS SHIFT\n",
    "    dsp_regs.write(0x0c,262)\n",
    "    #accum_and_bin_idx = firmware.gpio2.axi_gpio_0 # 0x00 bins, 0x08 0b-23b accum len, 24b accum rst, 26b sync in\n",
    "    #accum_and_bin_idx.write(0x08,1*accum_length) #100\n",
    "    dsp_regs.write(0x08,accum_length)\n",
    "    \n",
    "    # accum reset low then high\n",
    "    #fft_shift_and_load_bins.write(0x00,2**11) # reset DAC/DDS counter\n",
    "    dsp_regs.write(0x00, 2**11) # reset dac/dds counter\n",
    "    dsp_regs.write(0x00, 0) # reset dac/dds counter\n",
    "    dsp_regs.write(0x08,accum_length | accum_rst)\n",
    "\n",
    "    #accum_and_bin_idx.write(0x08,1*accum_length+0*sync_in+1*accum_rst) # 101 \n",
    "    #dsp_regs.write(0x08,accum_length | sync_in) # starts  \n",
    "    \n",
    "    load_DAC(dac_r,dac_i)\n",
    "    load_DDS(dds_r,dds_i)\n",
    "    sleep(.5)\n",
    "    #fft_shift_and_load_bins.write(0x00, fft_shift+2**10) # enable DAC/DDS counter\n",
    "    dsp_regs.write(0x00, fft_shift) # set fft shift\n",
    "    ########################\n",
    "    #accum_and_bin_idx.write(0x08,1*accum_length+1*sync_in+0*accum_rst) # 110 -- STARTS DSP FIRMWARE\n",
    "    dsp_regs.write(0x08, accum_length | sync_in)\n",
    "    sleep(0.5)\n",
    "    #accum_and_bin_idx.write(0x08,1*accum_length+1*sync_in+1*accum_rst) #111\n",
    "    dsp_regs.write(0x08, accum_length | accum_rst | sync_in)\n",
    "   \n",
    "    return 0"
   ]
  },
  {
   "cell_type": "code",
   "execution_count": null,
   "metadata": {},
   "outputs": [],
   "source": []
  },
  {
   "cell_type": "code",
   "execution_count": 24,
   "metadata": {
    "scrolled": true
   },
   "outputs": [
    {
     "name": "stdout",
     "output_type": "stream",
     "text": [
      "1953.125\n",
      "5 Frequencies Generated:\n",
      "[20.20019531 27.65039062 35.09960938 42.54980469 50.        ]\n",
      "\n",
      "Beat Frequencies:\n",
      "[200195.3125 150390.625   99609.375   49804.6875      0.    ]\n",
      "[20200195.3125 27650390.625  35099609.375  42549804.6875 50000000.    ]\n",
      "bin num ddc [205. 154. 102.  51.   0.]\n",
      "bin_list:[ 40  55  70  85 100]\n",
      "addr = 0, bin# = 40\n",
      "addr = 1, bin# = 55\n",
      "addr = 2, bin# = 70\n",
      "addr = 3, bin# = 85\n",
      "addr = 4, bin# = 100\n",
      "DAC waveform uploaded to AXI BRAM\n",
      "DDC waveform uploaded to AXI BRAM\n"
     ]
    },
    {
     "data": {
      "text/plain": [
       "0"
      ]
     },
     "execution_count": 24,
     "metadata": {},
     "output_type": "execute_result"
    }
   ],
   "source": [
    "LUT_I, LUT_Q, DDS_I, DDS_Q, freqs = surfsUpDude(np.linspace(20.2e6,50.0e6,5), vna=False, verbose=True)\n",
    "load_bin_list(freqs)\n",
    "load_waveform_into_mem(freqs, LUT_I, LUT_Q, DDS_I, DDS_Q)"
   ]
  },
  {
   "cell_type": "code",
   "execution_count": 25,
   "metadata": {},
   "outputs": [
    {
     "name": "stdout",
     "output_type": "stream",
     "text": [
      "[660 180 0 4294967294 0 0 0 0 0 0 0 0 0 0 0 0 0 0 0 0 0 0 0 0 0 0 0 0 0 0\n",
      " 0 0]\n"
     ]
    }
   ],
   "source": [
    "# WIDE BRAM\n",
    "\n",
    "axi_wide = firmware.axi_wide_ctrl# 0x0 max count, 0x8 capture rising edge trigger\n",
    "max_count = 32768\n",
    "mux_sel = 3\n",
    "axi_wide.write(0x08, mux_sel<<1) # mux select 0-adc, 1-pfb, 2-ddc, 3-accum\n",
    "axi_wide.write(0x00, max_count - 16) # -4 to account for extra delay in write counter state machine\n",
    "axi_wide.write(0x08, mux_sel<<1 | 0)\n",
    "axi_wide.write(0x08, mux_sel<<1 | 1)\n",
    "axi_wide.write(0x08, mux_sel<<1 | 0)\n",
    "base_addr_wide = 0x00_A007_0000\n",
    "mmio_wide_bram = MMIO(base_addr_wide,max_count)\n",
    "wide_data = mmio_wide_bram.array[0:8192]# max/4, bram depth*word_bits/32bits\n",
    "print(wide_data[0:32])"
   ]
  },
  {
   "cell_type": "code",
   "execution_count": 132,
   "metadata": {},
   "outputs": [
    {
     "data": {
      "text/plain": [
       "[<matplotlib.lines.Line2D at 0xffff72c174c0>]"
      ]
     },
     "execution_count": 132,
     "metadata": {},
     "output_type": "execute_result"
    },
    {
     "data": {
      "image/png": "[encoded data removed]",
      "text/plain": [
       "<Figure size 432x288 with 1 Axes>"
      ]
     },
     "metadata": {
      "needs_background": "light"
     },
     "output_type": "display_data"
    }
   ],
   "source": [
    "plt.plot(wide_data)"
   ]
  },
  {
   "cell_type": "code",
   "execution_count": 9,
   "metadata": {},
   "outputs": [
    {
     "data": {
      "text/plain": [
       "<matplotlib.legend.Legend at 0xffff5659e310>"
      ]
     },
     "execution_count": 9,
     "metadata": {},
     "output_type": "execute_result"
    },
    {
     "data": {
      "image/png": "[encoded data removed]",
      "text/plain": [
       "<Figure size 936x504 with 1 Axes>"
      ]
     },
     "metadata": {
      "needs_background": "light"
     },
     "output_type": "display_data"
    },
    {
     "data": {
      "image/png": "[encoded data removed]",
      "text/plain": [
       "<Figure size 432x288 with 1 Axes>"
      ]
     },
     "metadata": {
      "needs_background": "light"
     },
     "output_type": "display_data"
    }
   ],
   "source": [
    "# parsing for ADC\n",
    "up0, lw0 = np.int16(wide_data[0::4] >> 16), np.int16(wide_data[0::4] & 0x0000ffff)\n",
    "up1, lw1 = np.int16(wide_data[1::4] >> 16), np.int16(wide_data[1::4] & 0x0000ffff)\n",
    "I3 = np.zeros(4096)\n",
    "Q3 = np.zeros(4096)\n",
    "Q3[0::2] = lw0\n",
    "Q3[1::2] = up0\n",
    "I3[0::2] = lw1\n",
    "I3[1::2] = up1\n",
    "plt.figure(figsize=(13,7))\n",
    "c = slice(4000,4096)\n",
    "\n",
    "plt.subplot(221)\n",
    "plt.plot(I3[c],\"-+\",label=\"I\")\n",
    "plt.plot(Q3[c],\"-+\",label=\"Q\")\n",
    "#print(np.max(I3[c]))\n",
    "plt.ylabel(\"ADU\")\n",
    "plt.legend()\n",
    "\n",
    "plt.figure()\n",
    "plt.plot(I3[c]**2 + Q3[c]**2,\"-+\",label=\"mag\")\n",
    "#print(np.max(I3[c]))\n",
    "plt.ylabel(\"mag\")\n",
    "plt.legend()"
   ]
  },
  {
   "cell_type": "code",
   "execution_count": 13,
   "metadata": {},
   "outputs": [
    {
     "data": {
      "text/plain": [
       "<matplotlib.legend.Legend at 0xffff563e98e0>"
      ]
     },
     "execution_count": 13,
     "metadata": {},
     "output_type": "execute_result"
    },
    {
     "data": {
      "text/plain": [
       "<Figure size 936x504 with 0 Axes>"
      ]
     },
     "metadata": {},
     "output_type": "display_data"
    },
    {
     "data": {
      "image/png": "[encoded data removed]",
      "text/plain": [
       "<Figure size 432x288 with 1 Axes>"
      ]
     },
     "metadata": {
      "needs_background": "light"
     },
     "output_type": "display_data"
    },
    {
     "data": {
      "image/png": "[encoded data removed]",
      "text/plain": [
       "<Figure size 432x288 with 1 Axes>"
      ]
     },
     "metadata": {
      "needs_background": "light"
     },
     "output_type": "display_data"
    }
   ],
   "source": [
    "# parsing for PFB\n",
    "chunk0 = (np.uint64(wide_data[1::4]) << np.uint64(32)) + np.uint64(wide_data[0::4])\n",
    "chunk1 = (np.uint64(wide_data[2::4]) << np.uint64(32)) + np.uint64(wide_data[1::4])\n",
    "q0 = np.int64((chunk0 & 0x000000000003ffff)<<np.uint64(46))/2**32\n",
    "i0 = np.int64(((chunk0>>18) & 0x000000000003ffff)<<np.uint64(46))/2**32\n",
    "q1 = np.int64(((chunk1>>4)  & 0x000000000003ffff)<<np.uint64(46))/2**32\n",
    "i1 = np.int64(((chunk1>>22)  & 0x000000000003ffff)<<np.uint64(46))/2**32\n",
    "\n",
    "I3 = np.zeros(4096)\n",
    "Q3 = np.zeros(4096)\n",
    "Q3[0::2] = q0\n",
    "Q3[1::2] = q1\n",
    "I3[0::2] = i0\n",
    "I3[1::2] = i1\n",
    "plt.figure(figsize=(13,7))\n",
    "c = slice(0,4096)\n",
    "\n",
    "plt.figure()\n",
    "plt.plot(I3[c],\"-+\",label=\"I\")\n",
    "plt.plot(Q3[c],\"-+\",label=\"Q\")\n",
    "#print(np.max(I3[c]))\n",
    "plt.ylabel(\"ADU\")\n",
    "plt.legend()\n",
    "\n",
    "plt.figure()\n",
    "plt.plot(I3[c]**2 + Q3[c]**2,\"-+\",label=\"mag\")\n",
    "#print(np.max(I3[c]))\n",
    "plt.ylabel(\"mag\")\n",
    "plt.legend()"
   ]
  },
  {
   "cell_type": "code",
   "execution_count": 17,
   "metadata": {},
   "outputs": [
    {
     "data": {
      "text/plain": [
       "<matplotlib.legend.Legend at 0xffff55058ee0>"
      ]
     },
     "execution_count": 17,
     "metadata": {},
     "output_type": "execute_result"
    },
    {
     "data": {
      "text/plain": [
       "<Figure size 936x504 with 0 Axes>"
      ]
     },
     "metadata": {},
     "output_type": "display_data"
    },
    {
     "data": {
      "image/png": "[encoded data removed]",
      "text/plain": [
       "<Figure size 432x288 with 1 Axes>"
      ]
     },
     "metadata": {
      "needs_background": "light"
     },
     "output_type": "display_data"
    },
    {
     "data": {
      "image/png": "[encoded data removed]",
      "text/plain": [
       "<Figure size 432x288 with 1 Axes>"
      ]
     },
     "metadata": {
      "needs_background": "light"
     },
     "output_type": "display_data"
    }
   ],
   "source": [
    "# parsing for DDC\n",
    "chunk0 = (np.uint64(wide_data[1::4]) << np.uint64(32)) + np.uint64(wide_data[0::4])\n",
    "chunk1 = (np.uint64(wide_data[2::4]) << np.uint64(32)) + np.uint64(wide_data[1::4])\n",
    "q0 = np.int64((chunk0 & 0x00000000000fffff)<<np.uint64(45))/2**32\n",
    "i0 = np.int64(((chunk0>>19) & 0x00000000000fffff)<<np.uint64(45))/2**32\n",
    "q1 = np.int64(((chunk1>>6)  & 0x00000000000fffff)<<np.uint64(45))/2**32\n",
    "i1 = np.int64(((chunk1>>25)  & 0x00000000000fffff)<<np.uint64(45))/2**32\n",
    "\n",
    "I3 = np.zeros(4096)\n",
    "Q3 = np.zeros(4096)\n",
    "Q3[0::2] = q0\n",
    "Q3[1::2] = q1\n",
    "I3[0::2] = i0\n",
    "I3[1::2] = i1\n",
    "plt.figure(figsize=(13,7))\n",
    "c = slice(0,4096)\n",
    "\n",
    "plt.figure()\n",
    "plt.plot(I3[c],\"-+\",label=\"I\")\n",
    "plt.plot(Q3[c],\"-+\",label=\"Q\")\n",
    "#print(np.max(I3[c]))\n",
    "plt.ylabel(\"ADU\")\n",
    "plt.legend()\n",
    "\n",
    "plt.figure()\n",
    "plt.plot(I3[c]**2 + Q3[c]**2,\"-+\",label=\"mag\")\n",
    "#print(np.max(I3[c]))\n",
    "plt.ylabel(\"mag\")\n",
    "plt.legend()"
   ]
  },
  {
   "cell_type": "code",
   "execution_count": 26,
   "metadata": {},
   "outputs": [
    {
     "data": {
      "text/plain": [
       "<matplotlib.legend.Legend at 0xffff769edf70>"
      ]
     },
     "execution_count": 26,
     "metadata": {},
     "output_type": "execute_result"
    },
    {
     "data": {
      "text/plain": [
       "<Figure size 936x504 with 0 Axes>"
      ]
     },
     "metadata": {},
     "output_type": "display_data"
    },
    {
     "data": {
      "image/png": "[encoded data removed]",
      "text/plain": [
       "<Figure size 432x288 with 1 Axes>"
      ]
     },
     "metadata": {
      "needs_background": "light"
     },
     "output_type": "display_data"
    },
    {
     "data": {
      "image/png": "[encoded data removed]",
      "text/plain": [
       "<Figure size 432x288 with 1 Axes>"
      ]
     },
     "metadata": {
      "needs_background": "light"
     },
     "output_type": "display_data"
    }
   ],
   "source": [
    "# parsing for ACCUM\n",
    "q0 = (np.int32(wide_data[1::4])).astype(\"float\")\n",
    "i0 = (np.int32(wide_data[0::4])).astype(\"float\")\n",
    "q1 = (np.int32(wide_data[3::4])).astype(\"float\")\n",
    "i1 = (np.int32(wide_data[2::4])).astype(\"float\")\n",
    "\n",
    "I3 = np.zeros(4096)\n",
    "Q3 = np.zeros(4096)\n",
    "Q3[0::2] = q0\n",
    "Q3[1::2] = q1\n",
    "I3[0::2] = i0\n",
    "I3[1::2] = i1\n",
    "plt.figure(figsize=(13,7))\n",
    "c = slice(0,4096)\n",
    "\n",
    "plt.figure()\n",
    "plt.plot(I3[c],\"-+\",label=\"I\")\n",
    "plt.plot(Q3[c],\"-+\",label=\"Q\")\n",
    "#print(np.max(I3[c]))\n",
    "plt.ylabel(\"ADU\")\n",
    "plt.legend()\n",
    "\n",
    "plt.figure()\n",
    "plt.plot(I3[c]**2 + Q3[c]**2,\"-+\",label=\"mag\")\n",
    "#print(np.max(I3[c]))\n",
    "plt.xlim(0,10)\n",
    "plt.ylabel(\"mag\")\n",
    "plt.legend()"
   ]
  },
  {
   "cell_type": "code",
   "execution_count": null,
   "metadata": {},
   "outputs": [],
   "source": [
    "# DDS shift debug loop\n",
    "dds_shift=firmware.gpio3.axi_gpio_0 # DDS SHIFT offset = 0x00, 0x08 is open\n",
    "for step in range(512):\n",
    "    dds_shift.write(0x00,step) # WRITING TO DDS SHIFT \n",
    "    sleep(.01)\n",
    "    ddc_IQ_dat = get_ddc_data(ddc_snap).astype(\"int32\")\n",
    "    Iddc_f = ddc_IQ_dat[0::2].astype(\"float\")/2**13\n",
    "    Qddc_f = ddc_IQ_dat[1::2].astype(\"float\")/2**13\n",
    "    IQddc=abs(Iddc_f+1j*Qddc_f)\n",
    "    peak=IQddc[np.argmax(IQddc[:1024])]\n",
    "    print(step, peak)"
   ]
  }
 ],
 "metadata": {
  "interpreter": {
   "hash": "31f2aee4e71d21fbe5cf8b01ff0e069b9275f58929596ceb00d14d90e3e16cd6"
  },
  "kernelspec": {
   "display_name": "Python 3",
   "language": "python",
   "name": "python3"
  },
  "language_info": {
   "codemirror_mode": {
    "name": "ipython",
    "version": 3
   },
   "file_extension": ".py",
   "mimetype": "text/x-python",
   "name": "python",
   "nbconvert_exporter": "python",
   "pygments_lexer": "ipython3",
   "version": "3.8.2"
  }
 },
 "nbformat": 4,
 "nbformat_minor": 4
}
